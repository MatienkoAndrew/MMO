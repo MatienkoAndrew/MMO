{
 "cells": [
  {
   "cell_type": "code",
   "execution_count": 1,
   "metadata": {},
   "outputs": [],
   "source": [
    "import os\n",
    "import numpy as np\n",
    "import pandas as pd\n",
    "\n",
    "import matplotlib.pyplot as plt\n",
    "import seaborn as sns\n",
    "\n",
    "from scipy.sparse import csr_matrix\n",
    "from sklearn.neighbors import NearestNeighbors"
   ]
  },
  {
   "cell_type": "code",
   "execution_count": 2,
   "metadata": {},
   "outputs": [],
   "source": [
    "import zipfile\n",
    "\n",
    "with zipfile.ZipFile('BX-CSV-Dump.zip', 'r') as zipref:\n",
    "    zipref.extractall('datasets')"
   ]
  },
  {
   "cell_type": "code",
   "execution_count": 3,
   "metadata": {},
   "outputs": [
    {
     "name": "stderr",
     "output_type": "stream",
     "text": [
      "/opt/anaconda3/lib/python3.8/site-packages/IPython/core/interactiveshell.py:3418: DtypeWarning: Columns (3) have mixed types.Specify dtype option on import or set low_memory=False.\n",
      "  exec(code_obj, self.user_global_ns, self.user_ns)\n"
     ]
    }
   ],
   "source": [
    "path = './datasets/'\n",
    "ratings = pd.read_csv(path + 'BX-Book-Ratings.csv', encoding='windows-1251', sep=';')\n",
    "books = pd.read_csv(path + 'BX-Books.csv', encoding='windows-1251', sep=';',\n",
    "                   usecols=['ISBN',\n",
    "                            'Book-Title',\n",
    "                            'Book-Author',\n",
    "                            'Year-Of-Publication',\n",
    "                            'Publisher',\n",
    "                            'Image-URL-S',\n",
    "                            'Image-URL-M',\n",
    "                            'Image-URL-L'])\n",
    "users = pd.read_csv(path + 'BX-Users.csv', encoding='windows-1251', sep=';')\n",
    "\n",
    "ratings = ratings.rename(columns={'Book-Rating': 'Rating'})\n",
    "ratings[\"Rating\"] = ratings[\"Rating\"].astype(\"int8\")\n",
    "books.drop(['Image-URL-S', 'Image-URL-M', 'Image-URL-L'], axis=1, inplace=True)\n",
    "books = books.rename(columns={'Book-Title': 'Title', 'Book-Author': 'Author'})"
   ]
  },
  {
   "cell_type": "markdown",
   "metadata": {},
   "source": [
    "## Средние значения и количество"
   ]
  },
  {
   "cell_type": "code",
   "execution_count": 4,
   "metadata": {},
   "outputs": [],
   "source": [
    "avg_user_rating = ratings.groupby('User-ID')['Rating'].mean()\n",
    "cnt_user_rating = ratings.groupby('User-ID')['Rating'].count()\n",
    "\n",
    "avg_book_rating = ratings.groupby('ISBN')['Rating'].mean()\n",
    "cnt_book_rating = ratings.groupby('ISBN')['Rating'].count()\n",
    "\n",
    "avg_user_rating.name = 'avg_rating'\n",
    "cnt_user_rating.name = 'N_ratings'\n",
    "avg_book_rating.name = 'avg_rating'\n",
    "cnt_book_rating.name = 'N_ratings'"
   ]
  },
  {
   "cell_type": "code",
   "execution_count": 5,
   "metadata": {},
   "outputs": [],
   "source": [
    "users = users.merge(avg_user_rating, on=['User-ID'])\n",
    "users = users.merge(cnt_user_rating, on=['User-ID'])\n",
    "\n",
    "books = books.merge(avg_book_rating, on=['ISBN'])\n",
    "books = books.merge(cnt_book_rating, on=['ISBN'])"
   ]
  },
  {
   "cell_type": "markdown",
   "metadata": {},
   "source": [
    "# KNN model - recommend similar book\n",
    "## Find the most similar book (using user-recommendation vectors) and recommend it.\n",
    "\n"
   ]
  },
  {
   "cell_type": "code",
   "execution_count": 6,
   "metadata": {},
   "outputs": [],
   "source": [
    "pd_matrix = \\\n",
    "    pd.merge(books.loc[books[\"N_ratings\"] > 20, \"ISBN\"], \n",
    "             ratings, how=\"left\", left_on=\"ISBN\", right_on=\"ISBN\").drop_duplicates()\n",
    "\n",
    "pd_matrix = pd_matrix.pivot(index='ISBN', columns='User-ID', values='Rating').fillna(0).astype('int8')"
   ]
  },
  {
   "cell_type": "code",
   "execution_count": 7,
   "metadata": {},
   "outputs": [],
   "source": [
    "# Change to sparse matrix if we didn't have enough memory\n",
    "matrix = csr_matrix(pd_matrix.values)"
   ]
  },
  {
   "cell_type": "code",
   "execution_count": 8,
   "metadata": {},
   "outputs": [
    {
     "data": {
      "text/plain": [
       "NearestNeighbors(metric='cosine', n_jobs=-1, n_neighbors=11)"
      ]
     },
     "execution_count": 8,
     "metadata": {},
     "output_type": "execute_result"
    }
   ],
   "source": [
    "# Create a model\n",
    "N_predicted_neighbours = 11\n",
    "KNN = NearestNeighbors(metric='cosine', n_neighbors=N_predicted_neighbours, n_jobs=-1)\n",
    "# Fit the model\n",
    "KNN.fit(matrix)"
   ]
  },
  {
   "cell_type": "code",
   "execution_count": 9,
   "metadata": {},
   "outputs": [
    {
     "data": {
      "text/plain": [
       "((6863, 11), (6863, 11))"
      ]
     },
     "execution_count": 9,
     "metadata": {},
     "output_type": "execute_result"
    }
   ],
   "source": [
    "# Predict\n",
    "distances, indices = KNN.kneighbors(matrix)\n",
    "distances.shape, indices.shape"
   ]
  },
  {
   "cell_type": "code",
   "execution_count": 10,
   "metadata": {},
   "outputs": [
    {
     "name": "stdout",
     "output_type": "stream",
     "text": [
      "Because you liked Harry Potter and the Sorcerer's Stone (Harry Potter (Paperback)) you may like:\n",
      "\n",
      "Harry Potter and the Chamber of Secrets (Book 2) with distance 0.701.\n",
      "Harry Potter and the Prisoner of Azkaban (Book 3) with distance 0.760.\n",
      "Harry Potter and the Goblet of Fire (Book 4) with distance 0.828.\n",
      "Harry Potter and the Goblet of Fire (Book 4) with distance 0.838.\n",
      "Harry Potter and the Order of the Phoenix (Book 5) with distance 0.852.\n",
      "Harry Potter and the Prisoner of Azkaban (Book 3) with distance 0.869.\n",
      "Harry Potter and the Chamber of Secrets (Book 2) with distance 0.875.\n",
      "The Lost King (Star of the Guardians, Vol 1) with distance 0.902.\n",
      "Fried Green Tomatoes at the Whistle Stop Cafe with distance 0.904.\n",
      "Love Story with distance 0.911.\n"
     ]
    }
   ],
   "source": [
    "# Predictions\n",
    "\n",
    "print(f\"Because you liked {books.loc[books['ISBN'] == pd_matrix.index[indices[4865][0]], 'Title'].values[0]} you may like:\")\n",
    "print()\n",
    "for i in range(1, N_predicted_neighbours):\n",
    "    print(f\"{books.loc[books['ISBN'] == pd_matrix.index[indices[4865][i]], 'Title'].values[0]} with distance {distances[4865][i]:.3f}.\")"
   ]
  },
  {
   "cell_type": "code",
   "execution_count": 11,
   "metadata": {},
   "outputs": [],
   "source": [
    "def recommend_similar_book(isbn, indices, ratings_matrix, books_table, N_recommendations=1, distances=None):\n",
    "    \"\"\"\n",
    "    Recommends a book title.\n",
    "    \n",
    "    Parameters\n",
    "    ----------\n",
    "    ISBN: str\n",
    "        ISBN of a book a user liked\n",
    "    indices: np.array\n",
    "        indices of ratings_matrix as predicted by KNN\n",
    "    ratings_matrix: pd.DataFrame\n",
    "        user-book-rating matrix with ratings as values\n",
    "    N_recommendations: int (default 1)\n",
    "        How many books to recommend?\n",
    "    distances: np.array\n",
    "        How distant are books from each other by KNN?\n",
    "    \"\"\"\n",
    "    # TODO: This should be rather split in separate variables, this reads terribly\n",
    "    print(f\"Because you liked {books_table.loc[books_table['ISBN'] == ratings_matrix.index[indices[isbn][0]], 'Title'].values[0]} you may like:\")\n",
    "    print()\n",
    "    for i in range(1, 1+N_recommendations):\n",
    "        if distances:\n",
    "            print(f\"{books_table.loc[books_table['ISBN'] == ratings_matrix.index[indices[isbn][i]], 'Title'].values[0]} with distance {distances[isbn][i]:.3f}.\")\n",
    "        else:\n",
    "            print(f\"{books_table.loc[books_table['ISBN'] == ratings_matrix.index[indices[isbn][i]], 'Title'].values[0]}.\")"
   ]
  },
  {
   "cell_type": "code",
   "execution_count": 12,
   "metadata": {},
   "outputs": [
    {
     "name": "stdout",
     "output_type": "stream",
     "text": [
      "Because you liked Harry Potter and the Sorcerer's Stone (Harry Potter (Paperback)) you may like:\n",
      "\n",
      "Harry Potter and the Chamber of Secrets (Book 2).\n"
     ]
    }
   ],
   "source": [
    "recommend_similar_book(4865, indices, pd_matrix, books)"
   ]
  },
  {
   "cell_type": "markdown",
   "metadata": {},
   "source": [
    "# KNN model - recommend similar user's favourite book\n",
    "## Find the most similar user and recommend his top rated books that the current user have not read yet."
   ]
  },
  {
   "cell_type": "code",
   "execution_count": 13,
   "metadata": {},
   "outputs": [],
   "source": [
    "# Create a model\n",
    "KNN2 = NearestNeighbors(metric='cosine', n_neighbors=20, n_jobs=-1)"
   ]
  },
  {
   "cell_type": "code",
   "execution_count": 14,
   "metadata": {},
   "outputs": [
    {
     "data": {
      "text/plain": [
       "NearestNeighbors(metric='cosine', n_jobs=-1, n_neighbors=20)"
      ]
     },
     "execution_count": 14,
     "metadata": {},
     "output_type": "execute_result"
    }
   ],
   "source": [
    "# Fit\n",
    "KNN2.fit(matrix.T)"
   ]
  },
  {
   "cell_type": "code",
   "execution_count": null,
   "metadata": {},
   "outputs": [],
   "source": [
    "%%time\n",
    "\n",
    "# Predict\n",
    "distances2, indices2 = KNN2.kneighbors(matrix.T)"
   ]
  },
  {
   "cell_type": "code",
   "execution_count": null,
   "metadata": {},
   "outputs": [],
   "source": [
    "def recommend_favourite_book_of_similar_user(userID, indices, ratings_matrix, users_table, books_table, ratings_table, N_recommendations=1, distances=None):\n",
    "    \"\"\"\n",
    "    Recommends a book title based on favourite books of ten most similar users.\n",
    "    \n",
    "    The order of books is following:\n",
    "    Take the most similar user, sort his books by rating,\n",
    "    exclude everything the current predicted user already read.\n",
    "    Output books one by one.\n",
    "    If there is only a few books from the most similar user and\n",
    "    we run out of books, take next similar user and output\n",
    "    his favorite books in a similar fashion.\n",
    "    \n",
    "    Parameters\n",
    "    ----------\n",
    "    userID: int\n",
    "        ID of a user we want a recommendation for\n",
    "    indices: np.array\n",
    "        indices of ratings_matrix as predicted by KNN\n",
    "    ratings_matrix: pd.DataFrame\n",
    "        user-book-rating matrix with ratings as values\n",
    "    users_table: pd.DataFrame\n",
    "        Information about users\n",
    "    books_table: pd.DataFrame\n",
    "        Information about books\n",
    "    ratings_table: pd.DataFrame\n",
    "        Information about ratings\n",
    "    N_recommendations: int (default 1)\n",
    "        How many books to recommend?\n",
    "    distances: np.array\n",
    "        How distant are books from each other by KNN?\n",
    "    \"\"\"\n",
    "    selected_index = ratings_matrix.columns.get_loc(userID)\n",
    "    already_read_book_isbns = list(ratings_table.loc[ratings_table[\"User-ID\"] == userID, \"ISBN\"].values)\n",
    "    not_read_books = ratings_table.loc[~ratings_table[\"ISBN\"].isin(already_read_book_isbns)]\n",
    "    books_to_recommend = list()\n",
    "    for i in range(1,10):\n",
    "        similar_user_index = indices[selected_index][i]\n",
    "        similar_user_ID = ratings_matrix.columns[similar_user_index]\n",
    "        possible_to_recommend = not_read_books.loc[not_read_books[\"User-ID\"] == similar_user_ID]\n",
    "        possible_to_recommend = possible_to_recommend.sort_values(by=\"Rating\", ascending=False)\n",
    "        for a, row in possible_to_recommend.iterrows():\n",
    "            books_to_recommend.append(books_table.loc[books[\"ISBN\"] == row[\"ISBN\"], \"Title\"].values[0])\n",
    "            if len(books_to_recommend) > N_recommendations-1:\n",
    "                break\n",
    "        if len(books_to_recommend) > N_recommendations-1:\n",
    "            break\n",
    "    print(f\"Based on users who like similar books as you, you may like:\")\n",
    "    print()\n",
    "    for book_name in books_to_recommend:\n",
    "        print(book_name)"
   ]
  },
  {
   "cell_type": "code",
   "execution_count": null,
   "metadata": {},
   "outputs": [],
   "source": [
    "recommend_favourite_book_of_similar_user(175003, \n",
    "                                         indices2, \n",
    "                                         pd_matrix, \n",
    "                                         users, \n",
    "                                         books, \n",
    "                                         ratings, \n",
    "                                         N_recommendations=3, \n",
    "                                         distances=distances2)"
   ]
  },
  {
   "cell_type": "code",
   "execution_count": null,
   "metadata": {},
   "outputs": [],
   "source": []
  }
 ],
 "metadata": {
  "kernelspec": {
   "display_name": "Python 3",
   "language": "python",
   "name": "python3"
  },
  "language_info": {
   "codemirror_mode": {
    "name": "ipython",
    "version": 3
   },
   "file_extension": ".py",
   "mimetype": "text/x-python",
   "name": "python",
   "nbconvert_exporter": "python",
   "pygments_lexer": "ipython3",
   "version": "3.8.5"
  }
 },
 "nbformat": 4,
 "nbformat_minor": 4
}
